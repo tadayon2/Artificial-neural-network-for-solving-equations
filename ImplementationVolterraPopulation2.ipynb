{
  "nbformat": 4,
  "nbformat_minor": 0,
  "metadata": {
    "colab": {
      "name": "ImplementationVolterraPopulation2.ipynb",
      "provenance": [],
      "collapsed_sections": []
    },
    "kernelspec": {
      "name": "python3",
      "display_name": "Python 3"
    },
    "language_info": {
      "name": "python"
    }
  },
  "cells": [
    {
      "cell_type": "code",
      "execution_count": 9,
      "metadata": {
        "id": "t5Tzm6BcL6yv"
      },
      "outputs": [],
      "source": [
        "import tensorflow as tf\n",
        "import matplotlib.pyplot as plt\n",
        "\n",
        "tf.random.set_seed(0)\n",
        "\n",
        "n_input = 1\n",
        "n_hidden = 20\n",
        "n_output = 1"
      ]
    },
    {
      "cell_type": "code",
      "source": [
        "tf.keras.backend.set_floatx('float64')\n",
        "tf.keras.backend.floatx()"
      ],
      "metadata": {
        "colab": {
          "base_uri": "https://localhost:8080/",
          "height": 35
        },
        "id": "Zks08BDdKayA",
        "outputId": "1a392559-2ed5-4912-b10e-e3595338572a"
      },
      "execution_count": 10,
      "outputs": [
        {
          "output_type": "execute_result",
          "data": {
            "text/plain": [
              "'float64'"
            ],
            "application/vnd.google.colaboratory.intrinsic+json": {
              "type": "string"
            }
          },
          "metadata": {},
          "execution_count": 10
        }
      ]
    },
    {
      "cell_type": "code",
      "source": [
        "model = tf.keras.models.Sequential()\n",
        "model.add(tf.keras.layers.Dense(n_hidden, input_shape=(n_input, ), activation='tanh'))\n",
        "model.add(tf.keras.layers.Dense(n_hidden, activation='tanh'))\n",
        "model.add(tf.keras.layers.Dense(n_hidden, activation='tanh'))\n",
        "model.add(tf.keras.layers.Dense(n_output, activation='linear'))\n",
        "\n",
        "optimizer = tf.optimizers.Adam(learning_rate=0.1)"
      ],
      "metadata": {
        "id": "iK2LvtyNMSsM"
      },
      "execution_count": 11,
      "outputs": []
    },
    {
      "cell_type": "code",
      "source": [
        "# @tf.function\n",
        "def residual(y, x):\n",
        "  kappa = 0.5\n",
        "  dy_dx = tf.gradients(y, x)[0]\n",
        "  d2y_dx2 = tf.gradients(dy_dx, x)[0]\n",
        "  \n",
        "  LHS = kappa * d2y_dx2\n",
        "  RHS = dy_dx - dy_dx**2 - y * dy_dx\n",
        "  res = LHS - RHS\n",
        "  return res\n",
        "\n",
        "# @tf.function\n",
        "def boundary(y, x):\n",
        "  dy_dx = tf.gradients(y, x)[0]\n",
        "  bdy1 = y[0] - 0\n",
        "  bdy2 = dy_dx[0] - 0.1\n",
        "  return bdy1**2 + bdy2**2\n",
        "\n",
        "@tf.function\n",
        "def step(x):    \n",
        "    with tf.GradientTape() as tape:\n",
        "        y = model(x)        \n",
        "        # dy_dx = tf.gradients(y, x)[0]\n",
        "        # d2y_dx2 = tf.gradients(dy_dx, x)[0]        \n",
        "        # LHS = kappa * d2y_dx2\n",
        "        # RHS = dy_dx - dy_dx**2 - y * dy_dx\n",
        "        # res = LHS - RHS\n",
        "\n",
        "        # dy_dx = tf.gradients(y, x)[0]\n",
        "        # bdy1 = y[0] - 0\n",
        "        # bdy2 = dy_dx[0] - 0.1\n",
        "        # bdy = bdy1**2 + bdy2**2\n",
        "        \n",
        "        bdy = boundary(y, x)\n",
        "        res = residual(y, x)\n",
        "        loss = tf.reduce_mean(res**2 + bdy)\n",
        "    \n",
        "    weights = model.trainable_weights\n",
        "    grads = tape.gradient(loss, weights)\n",
        "    optimizer.apply_gradients(zip(grads, weights))\n",
        "\n",
        "    return loss"
      ],
      "metadata": {
        "id": "2O4W992mSQ4E"
      },
      "execution_count": 12,
      "outputs": []
    },
    {
      "cell_type": "code",
      "source": [
        "kappa = tf.constant(0.5, dtype=tf.float64)\n",
        "x = tf.linspace(0.0, 3.0, 1000)\n",
        "x = tf.cast(x, dtype=tf.float64)\n",
        "X = tf.reshape(x, (-1, 1))\n",
        "\n",
        "losses = []\n",
        "for i in range(1000):\n",
        "    loss = step(X).numpy()\n",
        "    losses.append(loss)\n",
        "    if i % 10 == 0:\n",
        "      print(\"{:03d} : {:08.6f}\".format(i, sum(losses[-10:])/10))\n"
      ],
      "metadata": {
        "colab": {
          "base_uri": "https://localhost:8080/"
        },
        "id": "IkQLDTkkZ7J6",
        "outputId": "189c35f3-5fbc-42ff-a7cd-5a864d4e5553"
      },
      "execution_count": 13,
      "outputs": [
        {
          "output_type": "stream",
          "name": "stdout",
          "text": [
            "000 : 0.035689\n",
            "010 : 4.628923\n",
            "020 : 0.166265\n",
            "030 : 0.057218\n",
            "040 : 0.027678\n",
            "050 : 0.010708\n",
            "060 : 0.006856\n",
            "070 : 0.004366\n",
            "080 : 0.002379\n",
            "090 : 0.001638\n",
            "100 : 0.001322\n",
            "110 : 0.001027\n",
            "120 : 0.000752\n",
            "130 : 0.000524\n",
            "140 : 0.000343\n",
            "150 : 0.000217\n",
            "160 : 0.000138\n",
            "170 : 0.000095\n",
            "180 : 0.000073\n",
            "190 : 0.000062\n",
            "200 : 0.000056\n",
            "210 : 0.000052\n",
            "220 : 0.000048\n",
            "230 : 0.000045\n",
            "240 : 0.000043\n",
            "250 : 0.000040\n",
            "260 : 0.000038\n",
            "270 : 0.000036\n",
            "280 : 0.000034\n",
            "290 : 0.000033\n",
            "300 : 0.000031\n",
            "310 : 0.000030\n",
            "320 : 0.000028\n",
            "330 : 0.000027\n",
            "340 : 0.000025\n",
            "350 : 0.000024\n",
            "360 : 0.000023\n",
            "370 : 0.000022\n",
            "380 : 0.000021\n",
            "390 : 0.000020\n",
            "400 : 0.000019\n",
            "410 : 0.000018\n",
            "420 : 0.000017\n",
            "430 : 0.000017\n",
            "440 : 0.000016\n",
            "450 : 0.000015\n",
            "460 : 0.000015\n",
            "470 : 0.000014\n",
            "480 : 0.000013\n",
            "490 : 0.000013\n",
            "500 : 0.000012\n",
            "510 : 0.000012\n",
            "520 : 0.000011\n",
            "530 : 0.000011\n",
            "540 : 0.000010\n",
            "550 : 0.000010\n",
            "560 : 0.000009\n",
            "570 : 0.000009\n",
            "580 : 0.000009\n",
            "590 : 0.000008\n",
            "600 : 0.000008\n",
            "610 : 0.000008\n",
            "620 : 0.000007\n",
            "630 : 0.000007\n",
            "640 : 0.000007\n",
            "650 : 0.000007\n",
            "660 : 0.000006\n",
            "670 : 0.000006\n",
            "680 : 0.000006\n",
            "690 : 0.000006\n",
            "700 : 0.000006\n",
            "710 : 0.000005\n",
            "720 : 0.000005\n",
            "730 : 0.000005\n",
            "740 : 0.000005\n",
            "750 : 0.000005\n",
            "760 : 0.000005\n",
            "770 : 0.000004\n",
            "780 : 0.000004\n",
            "790 : 0.000004\n",
            "800 : 0.000004\n",
            "810 : 0.000004\n",
            "820 : 0.000004\n",
            "830 : 0.000004\n",
            "840 : 0.000004\n",
            "850 : 0.000004\n",
            "860 : 0.000004\n",
            "870 : 0.000003\n",
            "880 : 0.000003\n",
            "890 : 0.000003\n",
            "900 : 0.000003\n",
            "910 : 0.000003\n",
            "920 : 0.000003\n",
            "930 : 0.000003\n",
            "940 : 0.000003\n",
            "950 : 0.000003\n",
            "960 : 0.000003\n",
            "970 : 0.000003\n",
            "980 : 0.000003\n",
            "990 : 0.000003\n"
          ]
        }
      ]
    },
    {
      "cell_type": "code",
      "source": [
        "@tf.function\n",
        "def solution(c):\n",
        "  return tf.gradients(model(c), c)[0]"
      ],
      "metadata": {
        "id": "EnuZN1KqOYsc"
      },
      "execution_count": 14,
      "outputs": []
    },
    {
      "cell_type": "code",
      "source": [
        "fig, axs = plt.subplots(1,1, figsize=(18,5))\n",
        "\n",
        "domain = x.numpy()\n",
        "exact = tf.exp(domain).numpy()\n",
        "predict = solution(X).numpy().flatten()\n",
        "\n",
        "# axs[0].plot(domain, exact, label='exact')\n",
        "axs.plot(domain, predict, label='predict')\n",
        "axs.legend()\n",
        "\n",
        "# axs[1].plot(domain, exact - predict, label='residual')\n",
        "# axs[1].legend()\n",
        "# fig.savefig('residual.jpg',bbox_inches='tight')"
      ],
      "metadata": {
        "id": "Wad7TfGaE_SC",
        "colab": {
          "base_uri": "https://localhost:8080/",
          "height": 338
        },
        "outputId": "e751f0d2-5ca0-45d3-b2c7-9f446a46b687"
      },
      "execution_count": 15,
      "outputs": [
        {
          "output_type": "execute_result",
          "data": {
            "text/plain": [
              "<matplotlib.legend.Legend at 0x7f4f3765e290>"
            ]
          },
          "metadata": {},
          "execution_count": 15
        },
        {
          "output_type": "display_data",
          "data": {
            "text/plain": [
              "<Figure size 1296x360 with 1 Axes>"
            ],
            "image/png": "[encoded data removed]"
          },
          "metadata": {
            "needs_background": "light"
          }
        }
      ]
    },
    {
      "cell_type": "code",
      "source": [
        "import matplotlib.pyplot as plt\n",
        "import numpy as np\n",
        "\n",
        "plt.figure(figsize=(10,5))\n",
        "plt.plot(np.log(losses))\n",
        "plt.savefig('f.jpg',bbox_inches='tight')"
      ],
      "metadata": {
        "id": "ZrWv9FpB1gn0",
        "colab": {
          "base_uri": "https://localhost:8080/",
          "height": 320
        },
        "outputId": "384f318a-4e1d-4572-c14b-85ae5354ef7c"
      },
      "execution_count": 16,
      "outputs": [
        {
          "output_type": "display_data",
          "data": {
            "text/plain": [
              "<Figure size 720x360 with 1 Axes>"
            ],
            "image/png": "[encoded data removed]"
          },
          "metadata": {
            "needs_background": "light"
          }
        }
      ]
    }
  ]
}