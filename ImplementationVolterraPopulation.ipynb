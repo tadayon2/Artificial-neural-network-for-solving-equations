{
  "nbformat": 4,
  "nbformat_minor": 0,
  "metadata": {
    "colab": {
      "name": "ImplementationVolterraPopulation.ipynb",
      "provenance": [],
      "collapsed_sections": []
    },
    "kernelspec": {
      "name": "python3",
      "display_name": "Python 3"
    },
    "language_info": {
      "name": "python"
    }
  },
  "cells": [
    {
      "cell_type": "code",
      "execution_count": 1,
      "metadata": {
        "id": "t5Tzm6BcL6yv"
      },
      "outputs": [],
      "source": [
        "import tensorflow as tf\n",
        "import matplotlib.pyplot as plt\n",
        "\n",
        "tf.random.set_seed(0)\n",
        "\n",
        "n_input = 1\n",
        "n_hidden = 20\n",
        "n_output = 1"
      ]
    },
    {
      "cell_type": "code",
      "source": [
        "tf.keras.backend.set_floatx('float64')\n",
        "tf.keras.backend.floatx()"
      ],
      "metadata": {
        "colab": {
          "base_uri": "https://localhost:8080/",
          "height": 35
        },
        "id": "Zks08BDdKayA",
        "outputId": "54f82756-37b8-41cd-ebfd-6f3532f00aa0"
      },
      "execution_count": 2,
      "outputs": [
        {
          "output_type": "execute_result",
          "data": {
            "text/plain": [
              "'float64'"
            ],
            "application/vnd.google.colaboratory.intrinsic+json": {
              "type": "string"
            }
          },
          "metadata": {},
          "execution_count": 2
        }
      ]
    },
    {
      "cell_type": "code",
      "source": [
        "model = tf.keras.models.Sequential()\n",
        "model.add(tf.keras.layers.Dense(n_hidden, input_shape=(n_input, ), activation='tanh'))\n",
        "model.add(tf.keras.layers.Dense(n_hidden, activation='tanh'))\n",
        "model.add(tf.keras.layers.Dense(n_hidden, activation='tanh'))\n",
        "model.add(tf.keras.layers.Dense(n_output, activation='linear'))\n",
        "\n",
        "optimizer = tf.optimizers.Adam(learning_rate=0.1)"
      ],
      "metadata": {
        "id": "iK2LvtyNMSsM"
      },
      "execution_count": 3,
      "outputs": []
    },
    {
      "cell_type": "code",
      "source": [
        "# @tf.function\n",
        "def residual(y, x):\n",
        "  kappa = 0.5\n",
        "  dy_dx = tf.gradients(y, x)[0]\n",
        "  d2y_dx2 = tf.gradients(dy_dx, x)[0]\n",
        "  \n",
        "  LHS = kappa * d2y_dx2\n",
        "  RHS = dy_dx - dy_dx**2 - y * dy_dx\n",
        "  res = LHS - RHS\n",
        "  return res\n",
        "\n",
        "# @tf.function\n",
        "def boundary(y, x):\n",
        "  dy_dx = tf.gradients(y, x)[0]\n",
        "  bdy1 = y[0] - 0\n",
        "  bdy2 = dy_dx[0] - 0.1\n",
        "  return bdy1**2 + bdy2**2\n",
        "\n",
        "@tf.function\n",
        "def step(x):    \n",
        "    with tf.GradientTape() as tape:\n",
        "        y = model(x)        \n",
        "        # dy_dx = tf.gradients(y, x)[0]\n",
        "        # d2y_dx2 = tf.gradients(dy_dx, x)[0]        \n",
        "        # LHS = kappa * d2y_dx2\n",
        "        # RHS = dy_dx - dy_dx**2 - y * dy_dx\n",
        "        # res = LHS - RHS\n",
        "\n",
        "        # dy_dx = tf.gradients(y, x)[0]\n",
        "        # bdy1 = y[0] - 0\n",
        "        # bdy2 = dy_dx[0] - 0.1\n",
        "        # bdy = bdy1**2 + bdy2**2\n",
        "        \n",
        "        bdy = boundary(y, x)\n",
        "        res = residual(y, x)\n",
        "        loss = tf.reduce_mean(res**2 + bdy)\n",
        "    \n",
        "    weights = model.trainable_weights\n",
        "    grads = tape.gradient(loss, weights)\n",
        "    optimizer.apply_gradients(zip(grads, weights))\n",
        "\n",
        "    return loss"
      ],
      "metadata": {
        "id": "2O4W992mSQ4E"
      },
      "execution_count": 4,
      "outputs": []
    },
    {
      "cell_type": "code",
      "source": [
        "kappa = tf.constant(0.5, dtype=tf.float64)\n",
        "x = tf.linspace(0.0, 3.0, 1000)\n",
        "# x = tf.cast(x, dtype=tf.float64)\n",
        "X = tf.reshape(x, (-1, 1))\n",
        "\n",
        "losses = []\n",
        "for i in range(1000):\n",
        "    loss = step(X).numpy()\n",
        "    losses.append(loss)\n",
        "    if i % 10 == 0:\n",
        "      print(\"{:03d} : {:08.6f}\".format(i, sum(losses[-10:])/10))\n"
      ],
      "metadata": {
        "colab": {
          "base_uri": "https://localhost:8080/",
          "height": 503
        },
        "id": "IkQLDTkkZ7J6",
        "outputId": "b57f021d-164f-4766-c116-99827f9edfb3"
      },
      "execution_count": 5,
      "outputs": [
        {
          "output_type": "error",
          "ename": "TypeError",
          "evalue": "ignored",
          "traceback": [
            "\u001b[0;31m---------------------------------------------------------------------------\u001b[0m",
            "\u001b[0;31mTypeError\u001b[0m                                 Traceback (most recent call last)",
            "\u001b[0;32m<ipython-input-5-5cbedcd14b32>\u001b[0m in \u001b[0;36m<module>\u001b[0;34m\u001b[0m\n\u001b[1;32m      6\u001b[0m \u001b[0mlosses\u001b[0m \u001b[0;34m=\u001b[0m \u001b[0;34m[\u001b[0m\u001b[0;34m]\u001b[0m\u001b[0;34m\u001b[0m\u001b[0;34m\u001b[0m\u001b[0m\n\u001b[1;32m      7\u001b[0m \u001b[0;32mfor\u001b[0m \u001b[0mi\u001b[0m \u001b[0;32min\u001b[0m \u001b[0mrange\u001b[0m\u001b[0;34m(\u001b[0m\u001b[0;36m1000\u001b[0m\u001b[0;34m)\u001b[0m\u001b[0;34m:\u001b[0m\u001b[0;34m\u001b[0m\u001b[0;34m\u001b[0m\u001b[0m\n\u001b[0;32m----> 8\u001b[0;31m     \u001b[0mloss\u001b[0m \u001b[0;34m=\u001b[0m \u001b[0mstep\u001b[0m\u001b[0;34m(\u001b[0m\u001b[0mX\u001b[0m\u001b[0;34m)\u001b[0m\u001b[0;34m.\u001b[0m\u001b[0mnumpy\u001b[0m\u001b[0;34m(\u001b[0m\u001b[0;34m)\u001b[0m\u001b[0;34m\u001b[0m\u001b[0;34m\u001b[0m\u001b[0m\n\u001b[0m\u001b[1;32m      9\u001b[0m     \u001b[0mlosses\u001b[0m\u001b[0;34m.\u001b[0m\u001b[0mappend\u001b[0m\u001b[0;34m(\u001b[0m\u001b[0mloss\u001b[0m\u001b[0;34m)\u001b[0m\u001b[0;34m\u001b[0m\u001b[0;34m\u001b[0m\u001b[0m\n\u001b[1;32m     10\u001b[0m     \u001b[0;32mif\u001b[0m \u001b[0mi\u001b[0m \u001b[0;34m%\u001b[0m \u001b[0;36m10\u001b[0m \u001b[0;34m==\u001b[0m \u001b[0;36m0\u001b[0m\u001b[0;34m:\u001b[0m\u001b[0;34m\u001b[0m\u001b[0;34m\u001b[0m\u001b[0m\n",
            "\u001b[0;32m/usr/local/lib/python3.7/dist-packages/tensorflow/python/util/traceback_utils.py\u001b[0m in \u001b[0;36merror_handler\u001b[0;34m(*args, **kwargs)\u001b[0m\n\u001b[1;32m    151\u001b[0m     \u001b[0;32mexcept\u001b[0m \u001b[0mException\u001b[0m \u001b[0;32mas\u001b[0m \u001b[0me\u001b[0m\u001b[0;34m:\u001b[0m\u001b[0;34m\u001b[0m\u001b[0;34m\u001b[0m\u001b[0m\n\u001b[1;32m    152\u001b[0m       \u001b[0mfiltered_tb\u001b[0m \u001b[0;34m=\u001b[0m \u001b[0m_process_traceback_frames\u001b[0m\u001b[0;34m(\u001b[0m\u001b[0me\u001b[0m\u001b[0;34m.\u001b[0m\u001b[0m__traceback__\u001b[0m\u001b[0;34m)\u001b[0m\u001b[0;34m\u001b[0m\u001b[0;34m\u001b[0m\u001b[0m\n\u001b[0;32m--> 153\u001b[0;31m       \u001b[0;32mraise\u001b[0m \u001b[0me\u001b[0m\u001b[0;34m.\u001b[0m\u001b[0mwith_traceback\u001b[0m\u001b[0;34m(\u001b[0m\u001b[0mfiltered_tb\u001b[0m\u001b[0;34m)\u001b[0m \u001b[0;32mfrom\u001b[0m \u001b[0;32mNone\u001b[0m\u001b[0;34m\u001b[0m\u001b[0;34m\u001b[0m\u001b[0m\n\u001b[0m\u001b[1;32m    154\u001b[0m     \u001b[0;32mfinally\u001b[0m\u001b[0;34m:\u001b[0m\u001b[0;34m\u001b[0m\u001b[0;34m\u001b[0m\u001b[0m\n\u001b[1;32m    155\u001b[0m       \u001b[0;32mdel\u001b[0m \u001b[0mfiltered_tb\u001b[0m\u001b[0;34m\u001b[0m\u001b[0;34m\u001b[0m\u001b[0m\n",
            "\u001b[0;32m/usr/local/lib/python3.7/dist-packages/tensorflow/python/framework/func_graph.py\u001b[0m in \u001b[0;36mautograph_handler\u001b[0;34m(*args, **kwargs)\u001b[0m\n\u001b[1;32m   1145\u001b[0m           \u001b[0;32mexcept\u001b[0m \u001b[0mException\u001b[0m \u001b[0;32mas\u001b[0m \u001b[0me\u001b[0m\u001b[0;34m:\u001b[0m  \u001b[0;31m# pylint:disable=broad-except\u001b[0m\u001b[0;34m\u001b[0m\u001b[0;34m\u001b[0m\u001b[0m\n\u001b[1;32m   1146\u001b[0m             \u001b[0;32mif\u001b[0m \u001b[0mhasattr\u001b[0m\u001b[0;34m(\u001b[0m\u001b[0me\u001b[0m\u001b[0;34m,\u001b[0m \u001b[0;34m\"ag_error_metadata\"\u001b[0m\u001b[0;34m)\u001b[0m\u001b[0;34m:\u001b[0m\u001b[0;34m\u001b[0m\u001b[0;34m\u001b[0m\u001b[0m\n\u001b[0;32m-> 1147\u001b[0;31m               \u001b[0;32mraise\u001b[0m \u001b[0me\u001b[0m\u001b[0;34m.\u001b[0m\u001b[0mag_error_metadata\u001b[0m\u001b[0;34m.\u001b[0m\u001b[0mto_exception\u001b[0m\u001b[0;34m(\u001b[0m\u001b[0me\u001b[0m\u001b[0;34m)\u001b[0m\u001b[0;34m\u001b[0m\u001b[0;34m\u001b[0m\u001b[0m\n\u001b[0m\u001b[1;32m   1148\u001b[0m             \u001b[0;32melse\u001b[0m\u001b[0;34m:\u001b[0m\u001b[0;34m\u001b[0m\u001b[0;34m\u001b[0m\u001b[0m\n\u001b[1;32m   1149\u001b[0m               \u001b[0;32mraise\u001b[0m\u001b[0;34m\u001b[0m\u001b[0;34m\u001b[0m\u001b[0m\n",
            "\u001b[0;31mTypeError\u001b[0m: in user code:\n\n    File \"<ipython-input-4-77612b269bf3>\", line 34, in step  *\n        bdy = boundary(y, x)\n    File \"<ipython-input-4-77612b269bf3>\", line 17, in boundary  *\n        return bdy1**2 + bdy2**2\n\n    TypeError: Input 'y' of 'AddV2' Op has type float32 that does not match type float64 of argument 'x'.\n"
          ]
        }
      ]
    },
    {
      "cell_type": "code",
      "source": [
        "@tf.function\n",
        "def solution(c):\n",
        "  return tf.gradients(model(c), c)[0]"
      ],
      "metadata": {
        "id": "EnuZN1KqOYsc"
      },
      "execution_count": null,
      "outputs": []
    },
    {
      "cell_type": "code",
      "source": [
        "fig, axs = plt.subplots(1,1, figsize=(18,5))\n",
        "\n",
        "domain = x.numpy()\n",
        "exact = tf.exp(domain).numpy()\n",
        "predict = solution(X).numpy().flatten()\n",
        "\n",
        "# axs[0].plot(domain, exact, label='exact')\n",
        "axs.plot(domain, predict, label='predict')\n",
        "axs.legend()\n",
        "\n",
        "# axs[1].plot(domain, exact - predict, label='residual')\n",
        "# axs[1].legend()\n",
        "# fig.savefig('residual.jpg',bbox_inches='tight')"
      ],
      "metadata": {
        "id": "Wad7TfGaE_SC"
      },
      "execution_count": null,
      "outputs": []
    },
    {
      "cell_type": "code",
      "source": [
        "import matplotlib.pyplot as plt\n",
        "import numpy as np\n",
        "\n",
        "plt.figure(figsize=(10,5))\n",
        "plt.plot(np.log(losses))\n",
        "plt.savefig('f.jpg',bbox_inches='tight')"
      ],
      "metadata": {
        "id": "ZrWv9FpB1gn0"
      },
      "execution_count": null,
      "outputs": []
    }
  ]
}